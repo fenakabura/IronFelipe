{
 "cells": [
  {
   "cell_type": "markdown",
   "id": "bb35aea5",
   "metadata": {},
   "source": [
    "\n",
    "# Activites List\n",
    "<b>Important: for Activity 1, Activity 2 and  Activity 3 , please use the files [file1.csv](./Data/file1.csv), [file2.csv](./Data/file2.csv) and [file3.csv](./Data/file3.csv) from the [Data](./Data) folder.</b>\n",
    "\n",
    "\n",
    "### Activity 1 (Monday)\n",
    "\n",
    "- Aggregate data into one Data Frame using Pandas. Pay attention that files may have different names for the same column. therefore, make sure that you unify the columns names before concating them. \n",
    "- Standardizing header names\n",
    "- Deleting and rearranging columns – delete the column customer as it is only a unique identifier for each row of data\n",
    "- Working with data types – Check the data types of all the columns and fix the incorrect ones (for ex. customer lifetime value and number of open complaints ). Hint: remove the percentage from the customer lifetime value and truncate it to an integer value.\n",
    "- clean the number of open complaints and extract the middle number which is changing between records. pay attention that the number of open complaints is a categorical feature.\n",
    "- Filtering data and Correcting typos – Filter the data in state and gender column to standardize the texts in those columns\n",
    "- Removing duplicates\n"
   ]
  },
  {
   "cell_type": "code",
   "execution_count": 1,
   "id": "460b4cdf",
   "metadata": {},
   "outputs": [],
   "source": [
    "import numpy as np\n",
    "import pandas as pd\n",
    "import matplotlib.pyplot as plt\n",
    "%matplotlib inline\n",
    "import seaborn as sns\n",
    "import statsmodels.api as sm\n",
    "from scipy.stats import boxcox\n",
    "\n",
    "pd.options.display.max_rows = 100"
   ]
  },
  {
   "cell_type": "code",
   "execution_count": 2,
   "id": "19b24b58",
   "metadata": {},
   "outputs": [],
   "source": [
    "def lower_case_column_names(x):\n",
    "    x.columns=[i.lower() for i in x.columns]\n",
    "    return x"
   ]
  },
  {
   "cell_type": "code",
   "execution_count": 3,
   "id": "ab997c00",
   "metadata": {},
   "outputs": [],
   "source": [
    "file1 = pd.read_csv(\"Data/file1.csv\")\n",
    "file1 = lower_case_column_names(file1)\n",
    "file1.rename(columns={\"st\":\"state\", \"customer lifetime value\":\"customer_ltv\", \"monthly premium auto\":\"premium\", \"number of open complaints\":\"open_complaints\", \"policy type\":\"policy\", \"vehicle class\":\"vehicle_class\", \"total claim amount\":\"total_claim\"}, inplace = True)\n",
    "# file1.head()"
   ]
  },
  {
   "cell_type": "code",
   "execution_count": 4,
   "id": "693733e5",
   "metadata": {},
   "outputs": [],
   "source": [
    "file2 = pd.read_csv(\"Data/file2.csv\")\n",
    "file2 = lower_case_column_names(file2)\n",
    "file2.rename(columns={\"st\":\"state\", \"customer lifetime value\":\"customer_ltv\", \"monthly premium auto\":\"premium\", \"number of open complaints\":\"open_complaints\", \"policy type\":\"policy\", \"vehicle class\":\"vehicle_class\", \"total claim amount\":\"total_claim\"}, inplace=True)\n",
    "file2 = file2[[\"customer\", \"state\", \"gender\", \"education\", \"customer_ltv\", \"income\", \"premium\", \"open_complaints\", \"policy\", \"vehicle_class\", \"total_claim\"]]\n",
    "# file2.head()"
   ]
  },
  {
   "cell_type": "code",
   "execution_count": 5,
   "id": "43f07473",
   "metadata": {},
   "outputs": [],
   "source": [
    "file3 = pd.read_csv(\"Data/file3.csv\")\n",
    "file3 = lower_case_column_names(file3)\n",
    "file3.rename(columns={\"customer lifetime value\":\"customer_ltv\", \"monthly premium auto\":\"premium\", \"number of open complaints\":\"open_complaints\", \"policy type\":\"policy\", \"vehicle class\":\"vehicle_class\", \"total claim amount\":\"total_claim\"}, inplace=True)\n",
    "file3 = file3[[\"customer\", \"state\", \"gender\", \"education\", \"customer_ltv\", \"income\", \"premium\", \"open_complaints\", \"policy\", \"vehicle_class\", \"total_claim\"]]\n",
    "# file3.head()"
   ]
  },
  {
   "cell_type": "code",
   "execution_count": 6,
   "id": "97379ce4",
   "metadata": {},
   "outputs": [],
   "source": [
    "def combining_files():\n",
    "    return pd.concat([file1,file2,file3], axis=0)"
   ]
  },
  {
   "cell_type": "code",
   "execution_count": 7,
   "id": "2495f768",
   "metadata": {},
   "outputs": [],
   "source": [
    "df = combining_files()\n",
    "df.drop([\"customer\"], axis=1, inplace=True)\n",
    "# df"
   ]
  },
  {
   "cell_type": "code",
   "execution_count": 8,
   "id": "186b06cc",
   "metadata": {},
   "outputs": [],
   "source": [
    "df['state'] = df['state'].replace(['AZ', 'WA', 'Cali'],['Arizona', 'Washington', 'California'])\n",
    "# df[\"state\"].value_counts()"
   ]
  },
  {
   "cell_type": "code",
   "execution_count": 9,
   "id": "e8536ead",
   "metadata": {},
   "outputs": [],
   "source": [
    "df['gender'] = df['gender'].replace(['Femal', 'female'], 'F')\n",
    "df['gender'] = df['gender'].replace(['Male'], 'M')\n",
    "# df['gender'].value_counts()"
   ]
  },
  {
   "cell_type": "code",
   "execution_count": 10,
   "id": "8df58e1e",
   "metadata": {},
   "outputs": [],
   "source": [
    "df['education'] = df['education'].replace(['Bachelors'], 'Bachelor')\n",
    "# df['education'].unique()\n",
    "# df['education'].value_counts()"
   ]
  },
  {
   "cell_type": "code",
   "execution_count": 11,
   "id": "022843bd",
   "metadata": {},
   "outputs": [],
   "source": [
    "df['customer_ltv'] = df['customer_ltv'].apply(lambda x: float(x.strip(\"%\"))/100 if isinstance(x,str) else x)\n",
    "df['customer_ltv'] = pd.to_numeric(df['customer_ltv'], errors='coerce')\n",
    "df['customer_ltv'] = df['customer_ltv'].apply(lambda x: float(round(x, 0)) if isinstance(x, (int, float)) else x)"
   ]
  },
  {
   "cell_type": "code",
   "execution_count": 12,
   "id": "884fccd9",
   "metadata": {},
   "outputs": [],
   "source": [
    "df['open_complaints'] = df['open_complaints'].apply(lambda x: float(x.split('/')[1]) if isinstance(x, str) else x)\n",
    "# df['open_complaints'].unique()"
   ]
  },
  {
   "cell_type": "code",
   "execution_count": 13,
   "id": "18d0061e",
   "metadata": {},
   "outputs": [],
   "source": [
    "# df"
   ]
  },
  {
   "cell_type": "markdown",
   "id": "4c0e5f2b",
   "metadata": {},
   "source": [
    "\n",
    "### Activity 2 (Tuesday)\n",
    "- Replacing null values – Replace missing values with means of the column (for numerical columns). Pay attention that the Income feature for instance has 0s which is equivalent to null values. (We assume here that there is no such income with 0 as it refers to missing values)\n",
    "Hint: numpy.nan is considered of float64 data type.\n",
    "- Bucketing the data - Write a function to replace column \"State\" to different zones. California as West Region, Oregon as North West, and Washington as East, and Arizona and Nevada as Central\n",
    "- (Optional) Standardizing the data – Use string functions to standardize the text data (lower case)\n",
    "\n",
    "<b>Important: for Activity 3 and Activity 4 , please use the [file Data_Marketing_Customer_Analysis_Round3.csv](./Data/Data_Marketing_Customer_Analysis_Round3.csv) from the [Data](./Data) folder.</b>\n"
   ]
  },
  {
   "cell_type": "code",
   "execution_count": 14,
   "id": "776620e7",
   "metadata": {},
   "outputs": [],
   "source": [
    "# original_df = df\n",
    "df = df.drop_duplicates()"
   ]
  },
  {
   "cell_type": "code",
   "execution_count": 15,
   "id": "6a41af46",
   "metadata": {},
   "outputs": [],
   "source": [
    "df = df.fillna(0)\n",
    "# df"
   ]
  },
  {
   "cell_type": "code",
   "execution_count": 16,
   "id": "83c7c376",
   "metadata": {},
   "outputs": [],
   "source": [
    "df['income'] = df['income'].replace([0], df.income.mean())\n",
    "df['premium'] = df['premium'].replace([0], df.premium.mean())\n",
    "df['customer_ltv'] = df['customer_ltv'].replace([0], df.customer_ltv.mean())\n",
    "df['state'] = df['state'].replace([0], 'U')\n",
    "df['gender'] = df['gender'].replace([0], \"U\")\n",
    "# df"
   ]
  },
  {
   "cell_type": "code",
   "execution_count": 17,
   "id": "3b38b30c",
   "metadata": {},
   "outputs": [],
   "source": [
    "df['state'] = df['state'].replace(['California', 'Oregon', 'Washington'],['West Region', 'North West', 'East'])\n",
    "df['state'] = df['state'].replace(['Arizona', 'Nevada'], 'Central')\n",
    "# print(\"state -> \", df[\"state\"].value_counts())"
   ]
  },
  {
   "cell_type": "code",
   "execution_count": 19,
   "id": "b32e23a8",
   "metadata": {},
   "outputs": [
    {
     "name": "stdout",
     "output_type": "stream",
     "text": [
      "state ->  ['East' 'Central' 'West Region' 'North West' 'U']\n"
     ]
    }
   ],
   "source": [
    "# print(\"state -> \", df[\"state\"].unique())\n",
    "# print(\"gender -> \", df[\"gender\"].unique())\n",
    "# print(\"education -> \", df[\"education\"].unique())\n",
    "# print(\"customer_ltv -> \", df[\"customer_ltv\"].unique())\n",
    "# print(\"income -> \", df[\"income\"].unique())\n",
    "# print(\"premium -> \", df[\"premium\"].unique())\n",
    "# print(\"open_complaints -> \", df[\"open_complaints\"].unique())\n",
    "# print(\"policy -> \", df[\"policy\"].unique())\n",
    "# print(\"vehicle_class -> \", df[\"vehicle_class\"].unique())\n",
    "# print(\"total_claim -> \", df[\"total_claim\"].unique())"
   ]
  },
  {
   "cell_type": "markdown",
   "id": "e45348f5",
   "metadata": {},
   "source": [
    "\n",
    "### Activity 3 (Wednesday)\n",
    "\n",
    "- Get the numeric data into dataframe called `numerical` and categorical columns in a dataframe called `categoricals`.\n",
    "(You can use np.number and np.object to select the numerical data types and categorical data types respectively)\n",
    "- Now we will try to check the normality of the numerical variables visually\n",
    "  - Use seaborn library to construct distribution plots for the numerical variables\n",
    "  - Use Matplotlib to construct histograms\n",
    "  - Do the distributions for different numerical variables look like a normal distribution \n",
    "- For the numerical variables, check the multicollinearity between the features. Please note that we will use the column `total_claim_amount` later as the target variable.\n",
    "- Optional: Drop one of the two features that show a high correlation between them (greater than 0.9). If there is no pair of features that have a high correlation, then do not drop any features.\n"
   ]
  },
  {
   "cell_type": "code",
   "execution_count": null,
   "id": "68dfe0f9",
   "metadata": {},
   "outputs": [],
   "source": []
  },
  {
   "cell_type": "markdown",
   "id": "0980ea73",
   "metadata": {},
   "source": [
    "\n",
    "### Activity 4 (Thursday)\n",
    "\n",
    "- Show a plot of the total number of responses.\n",
    "- Show a plot of the response by the sales channel.\n",
    "- Show a plot of the response by the total claim amount.\n",
    "- Show a plot of the response by income.\n",
    "- (Optional) Don't limit your creativity!  plot any interesting findings/insights that describe some interesting facts about your data set and its variables.\n",
    "- Plot the Correlation Heatmap.\n",
    "- Clean your notebook and make it a readible and presentable with a good documentation that summarizes the Data Cleaning, Exploration(including plots) Steps that you have performed.\n"
   ]
  }
 ],
 "metadata": {
  "kernelspec": {
   "display_name": "Python 3 (ipykernel)",
   "language": "python",
   "name": "python3"
  },
  "language_info": {
   "codemirror_mode": {
    "name": "ipython",
    "version": 3
   },
   "file_extension": ".py",
   "mimetype": "text/x-python",
   "name": "python",
   "nbconvert_exporter": "python",
   "pygments_lexer": "ipython3",
   "version": "3.9.12"
  },
  "toc": {
   "base_numbering": 1,
   "nav_menu": {},
   "number_sections": true,
   "sideBar": true,
   "skip_h1_title": false,
   "title_cell": "Table of Contents",
   "title_sidebar": "Contents",
   "toc_cell": false,
   "toc_position": {},
   "toc_section_display": true,
   "toc_window_display": false
  }
 },
 "nbformat": 4,
 "nbformat_minor": 5
}
