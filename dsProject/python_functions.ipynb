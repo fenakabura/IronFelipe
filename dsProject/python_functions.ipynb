{
 "cells": [
  {
   "cell_type": "markdown",
   "source": [
    "# Python Functions\n",
    "\n",
    "**Functions are useful because:**\n",
    "- Makes it *easier to debug* -> if something breaks, you just need to fix the function, not the whole code.\n",
    "- *Organizes* the code -> since instead of having to rewrite a piece of code, you can just reuse the function.\n",
    "- *Shareable* -> through libraries and packages, like NumPy, Matplotlib, etc.\n",
    "\n",
    "\n",
    "## Coding functions"
   ],
   "metadata": {
    "collapsed": false,
    "pycharm": {
     "name": "#%% md\n"
    }
   }
  },
  {
   "cell_type": "code",
   "execution_count": 2,
   "outputs": [],
   "source": [
    "def name(arg1, arg2, ... argN):\n",
    "    '''\n",
    "\n",
    "    :param arg1:\n",
    "    :param arg2:\n",
    "    :return:\n",
    "    '''\n",
    "    return value"
   ],
   "metadata": {
    "collapsed": false,
    "pycharm": {
     "name": "#%%\n"
    }
   }
  },
  {
   "cell_type": "markdown",
   "source": [
    "**the variables created within the function only exists inside the function! If you wish to use a variable constantly it should be created outside the function**"
   ],
   "metadata": {
    "collapsed": false,
    "pycharm": {
     "name": "#%% md\n"
    }
   }
  },
  {
   "cell_type": "markdown",
   "source": [
    "# List Methods:"
   ],
   "metadata": {
    "collapsed": false,
    "pycharm": {
     "name": "#%% md\n"
    }
   }
  },
  {
   "cell_type": "markdown",
   "source": [
    "**There are several **"
   ],
   "metadata": {
    "collapsed": false,
    "pycharm": {
     "name": "#%% md\n"
    }
   }
  }
 ],
 "metadata": {
  "kernelspec": {
   "display_name": "Python 3",
   "language": "python",
   "name": "python3"
  },
  "language_info": {
   "codemirror_mode": {
    "name": "ipython",
    "version": 2
   },
   "file_extension": ".py",
   "mimetype": "text/x-python",
   "name": "python",
   "nbconvert_exporter": "python",
   "pygments_lexer": "ipython2",
   "version": "2.7.6"
  }
 },
 "nbformat": 4,
 "nbformat_minor": 0
}