{
 "cells": [
  {
   "cell_type": "code",
   "execution_count": 1,
   "id": "3c229975",
   "metadata": {
    "pycharm": {
     "name": "#%%\n"
    }
   },
   "outputs": [],
   "source": [
    "import numpy as np\n",
    "import pandas as pd\n",
    "import matplotlib.pyplot as plt\n",
    "%matplotlib inline\n",
    "import seaborn as sns\n",
    "import statsmodels.api as sm\n",
    "from scipy.stats import boxcox\n",
    "\n",
    "pd.options.display.max_rows = 100"
   ]
  },
  {
   "cell_type": "code",
   "execution_count": 2,
   "id": "f3b4941a",
   "metadata": {
    "pycharm": {
     "name": "#%%\n"
    }
   },
   "outputs": [],
   "source": [
    "def lower_case_column_names(x):\n",
    "    x.columns=[i.lower() for i in x.columns]\n",
    "    return x"
   ]
  },
  {
   "cell_type": "code",
   "execution_count": 3,
   "id": "d64ae1fa",
   "metadata": {
    "pycharm": {
     "name": "#%%\n"
    }
   },
   "outputs": [],
   "source": [
    "file1 = pd.read_csv(\"Data/file1.csv\")\n",
    "file1 = lower_case_column_names(file1)\n",
    "file1.rename(columns={\"st\":\"state\", \"customer lifetime value\":\"customer_ltv\", \"monthly premium auto\":\"premium\", \"number of open complaints\":\"open_complaints\", \"policy type\":\"policy\", \"vehicle class\":\"vehicle_class\", \"total claim amount\":\"total_claim\"}, inplace = True)\n",
    "# file1.head()"
   ]
  },
  {
   "cell_type": "code",
   "execution_count": 4,
   "id": "b74448a9",
   "metadata": {
    "pycharm": {
     "name": "#%%\n"
    }
   },
   "outputs": [],
   "source": [
    "file2 = pd.read_csv(\"Data/file2.csv\")\n",
    "file2 = lower_case_column_names(file2)\n",
    "file2.rename(columns={\"st\":\"state\", \"customer lifetime value\":\"customer_ltv\", \"monthly premium auto\":\"premium\", \"number of open complaints\":\"open_complaints\", \"policy type\":\"policy\", \"vehicle class\":\"vehicle_class\", \"total claim amount\":\"total_claim\"}, inplace=True)\n",
    "file2 = file2[[\"customer\", \"state\", \"gender\", \"education\", \"customer_ltv\", \"income\", \"premium\", \"open_complaints\", \"policy\", \"vehicle_class\", \"total_claim\"]]\n",
    "# file2.head()"
   ]
  },
  {
   "cell_type": "code",
   "execution_count": 5,
   "id": "38e53654",
   "metadata": {
    "pycharm": {
     "name": "#%%\n"
    }
   },
   "outputs": [],
   "source": [
    "file3 = pd.read_csv(\"Data/file3.csv\")\n",
    "file3 = lower_case_column_names(file3)\n",
    "file3.rename(columns={\"customer lifetime value\":\"customer_ltv\", \"monthly premium auto\":\"premium\", \"number of open complaints\":\"open_complaints\", \"policy type\":\"policy\", \"vehicle class\":\"vehicle_class\", \"total claim amount\":\"total_claim\"}, inplace=True)\n",
    "file3 = file3[[\"customer\", \"state\", \"gender\", \"education\", \"customer_ltv\", \"income\", \"premium\", \"open_complaints\", \"policy\", \"vehicle_class\", \"total_claim\"]]\n",
    "# file3.head()"
   ]
  },
  {
   "cell_type": "code",
   "execution_count": 6,
   "id": "73528bd8",
   "metadata": {
    "pycharm": {
     "name": "#%%\n"
    }
   },
   "outputs": [],
   "source": [
    "def combining_files():\n",
    "    return pd.concat([file1,file2,file3], axis=0)"
   ]
  },
  {
   "cell_type": "code",
   "execution_count": 7,
   "id": "8de062ef",
   "metadata": {
    "pycharm": {
     "name": "#%%\n"
    }
   },
   "outputs": [],
   "source": [
    "df = combining_files()\n",
    "df.drop([\"customer\"], axis=1, inplace=True)\n",
    "# df"
   ]
  },
  {
   "cell_type": "code",
   "execution_count": 8,
   "id": "43617fa1",
   "metadata": {
    "pycharm": {
     "name": "#%%\n"
    }
   },
   "outputs": [],
   "source": [
    "# print(\"state -> \", df[\"state\"].unique())\n",
    "# print(\"gender -> \", df[\"gender\"].unique())\n",
    "# print(\"education -> \", df[\"education\"].unique())\n",
    "# print(\"policy type -> \", df[\"policy\"].unique())\n",
    "# print(\"vehicle class -> \", df[\"vehicle_class\"].unique())"
   ]
  },
  {
   "cell_type": "code",
   "execution_count": 9,
   "id": "8a204198",
   "metadata": {
    "pycharm": {
     "name": "#%%\n"
    }
   },
   "outputs": [],
   "source": [
    "df['state'] = df['state'].replace(['AZ', 'WA', 'Cali'],['Arizona', 'Washington', 'California'])\n",
    "# df[\"state\"].value_counts()"
   ]
  },
  {
   "cell_type": "code",
   "execution_count": 10,
   "id": "7746553b",
   "metadata": {
    "pycharm": {
     "name": "#%%\n"
    }
   },
   "outputs": [],
   "source": [
    "df['gender'] = df['gender'].replace(['Femal', 'female'], 'F')\n",
    "df['gender'] = df['gender'].replace(['Male'], 'M')\n",
    "# df['gender'].value_counts()"
   ]
  },
  {
   "cell_type": "code",
   "execution_count": 11,
   "id": "29fb83bb",
   "metadata": {
    "pycharm": {
     "name": "#%%\n"
    }
   },
   "outputs": [],
   "source": [
    "df['education'] = df['education'].replace(['Bachelors'], 'Bachelor')\n",
    "# df['education'].unique()\n",
    "# df['education'].value_counts()"
   ]
  },
  {
   "cell_type": "code",
   "execution_count": 12,
   "id": "0be99ad2",
   "metadata": {
    "pycharm": {
     "name": "#%%\n"
    }
   },
   "outputs": [],
   "source": [
    "df['customer_ltv'] = df['customer_ltv'].apply(lambda x: float(x.strip(\"%\"))/100 if isinstance(x,str) else x)\n",
    "df['customer_ltv'] = pd.to_numeric(df['customer_ltv'], errors='coerce')\n",
    "df['customer_ltv'] = df['customer_ltv'].apply(lambda x: float(round(x, 0)) if isinstance(x, (int, float)) else x)"
   ]
  },
  {
   "cell_type": "code",
   "execution_count": 13,
   "id": "3f1a2a85",
   "metadata": {
    "pycharm": {
     "name": "#%%\n"
    }
   },
   "outputs": [],
   "source": [
    "df['open_complaints'] = df['open_complaints'].apply(lambda x: float(x.split('/')[1]) if isinstance(x, str) else x)\n",
    "# df['open_complaints'].unique()"
   ]
  },
  {
   "cell_type": "code",
   "execution_count": 14,
   "id": "479936b2",
   "metadata": {
    "pycharm": {
     "name": "#%%\n"
    }
   },
   "outputs": [],
   "source": [
    "# original_df = df\n",
    "df = df.drop_duplicates()"
   ]
  },
  {
   "cell_type": "code",
   "execution_count": 15,
   "id": "1dcbc37a",
   "metadata": {
    "pycharm": {
     "name": "#%%\n"
    }
   },
   "outputs": [],
   "source": [
    "df = df.fillna(0)\n",
    "# df"
   ]
  },
  {
   "cell_type": "code",
   "execution_count": 16,
   "id": "7c80408b",
   "metadata": {
    "pycharm": {
     "name": "#%%\n"
    }
   },
   "outputs": [
    {
     "data": {
      "text/html": [
       "<div>\n",
       "<style scoped>\n",
       "    .dataframe tbody tr th:only-of-type {\n",
       "        vertical-align: middle;\n",
       "    }\n",
       "\n",
       "    .dataframe tbody tr th {\n",
       "        vertical-align: top;\n",
       "    }\n",
       "\n",
       "    .dataframe thead th {\n",
       "        text-align: right;\n",
       "    }\n",
       "</style>\n",
       "<table border=\"1\" class=\"dataframe\">\n",
       "  <thead>\n",
       "    <tr style=\"text-align: right;\">\n",
       "      <th></th>\n",
       "      <th>state</th>\n",
       "      <th>gender</th>\n",
       "      <th>education</th>\n",
       "      <th>customer_ltv</th>\n",
       "      <th>income</th>\n",
       "      <th>premium</th>\n",
       "      <th>open_complaints</th>\n",
       "      <th>policy</th>\n",
       "      <th>vehicle_class</th>\n",
       "      <th>total_claim</th>\n",
       "    </tr>\n",
       "  </thead>\n",
       "  <tbody>\n",
       "    <tr>\n",
       "      <th>0</th>\n",
       "      <td>Washington</td>\n",
       "      <td>U</td>\n",
       "      <td>Master</td>\n",
       "      <td>7980.553578</td>\n",
       "      <td>37707.283909</td>\n",
       "      <td>1000.0</td>\n",
       "      <td>0.0</td>\n",
       "      <td>Personal Auto</td>\n",
       "      <td>Four-Door Car</td>\n",
       "      <td>2.704934</td>\n",
       "    </tr>\n",
       "    <tr>\n",
       "      <th>1</th>\n",
       "      <td>Arizona</td>\n",
       "      <td>F</td>\n",
       "      <td>Bachelor</td>\n",
       "      <td>6980.000000</td>\n",
       "      <td>37707.283909</td>\n",
       "      <td>94.0</td>\n",
       "      <td>0.0</td>\n",
       "      <td>Personal Auto</td>\n",
       "      <td>Four-Door Car</td>\n",
       "      <td>1131.464935</td>\n",
       "    </tr>\n",
       "    <tr>\n",
       "      <th>2</th>\n",
       "      <td>Nevada</td>\n",
       "      <td>F</td>\n",
       "      <td>Bachelor</td>\n",
       "      <td>12887.000000</td>\n",
       "      <td>48767.000000</td>\n",
       "      <td>108.0</td>\n",
       "      <td>0.0</td>\n",
       "      <td>Personal Auto</td>\n",
       "      <td>Two-Door Car</td>\n",
       "      <td>566.472247</td>\n",
       "    </tr>\n",
       "    <tr>\n",
       "      <th>3</th>\n",
       "      <td>California</td>\n",
       "      <td>M</td>\n",
       "      <td>Bachelor</td>\n",
       "      <td>7646.000000</td>\n",
       "      <td>37707.283909</td>\n",
       "      <td>106.0</td>\n",
       "      <td>0.0</td>\n",
       "      <td>Corporate Auto</td>\n",
       "      <td>SUV</td>\n",
       "      <td>529.881344</td>\n",
       "    </tr>\n",
       "    <tr>\n",
       "      <th>4</th>\n",
       "      <td>Washington</td>\n",
       "      <td>M</td>\n",
       "      <td>High School or Below</td>\n",
       "      <td>5363.000000</td>\n",
       "      <td>36357.000000</td>\n",
       "      <td>68.0</td>\n",
       "      <td>0.0</td>\n",
       "      <td>Personal Auto</td>\n",
       "      <td>Four-Door Car</td>\n",
       "      <td>17.269323</td>\n",
       "    </tr>\n",
       "    <tr>\n",
       "      <th>...</th>\n",
       "      <td>...</td>\n",
       "      <td>...</td>\n",
       "      <td>...</td>\n",
       "      <td>...</td>\n",
       "      <td>...</td>\n",
       "      <td>...</td>\n",
       "      <td>...</td>\n",
       "      <td>...</td>\n",
       "      <td>...</td>\n",
       "      <td>...</td>\n",
       "    </tr>\n",
       "    <tr>\n",
       "      <th>7064</th>\n",
       "      <td>California</td>\n",
       "      <td>F</td>\n",
       "      <td>College</td>\n",
       "      <td>4100.000000</td>\n",
       "      <td>47761.000000</td>\n",
       "      <td>104.0</td>\n",
       "      <td>0.0</td>\n",
       "      <td>Personal Auto</td>\n",
       "      <td>Four-Door Car</td>\n",
       "      <td>541.282007</td>\n",
       "    </tr>\n",
       "    <tr>\n",
       "      <th>7065</th>\n",
       "      <td>California</td>\n",
       "      <td>M</td>\n",
       "      <td>Bachelor</td>\n",
       "      <td>23406.000000</td>\n",
       "      <td>71941.000000</td>\n",
       "      <td>73.0</td>\n",
       "      <td>0.0</td>\n",
       "      <td>Personal Auto</td>\n",
       "      <td>Four-Door Car</td>\n",
       "      <td>198.234764</td>\n",
       "    </tr>\n",
       "    <tr>\n",
       "      <th>7067</th>\n",
       "      <td>California</td>\n",
       "      <td>M</td>\n",
       "      <td>Bachelor</td>\n",
       "      <td>8164.000000</td>\n",
       "      <td>37707.283909</td>\n",
       "      <td>85.0</td>\n",
       "      <td>3.0</td>\n",
       "      <td>Corporate Auto</td>\n",
       "      <td>Four-Door Car</td>\n",
       "      <td>790.784983</td>\n",
       "    </tr>\n",
       "    <tr>\n",
       "      <th>7068</th>\n",
       "      <td>California</td>\n",
       "      <td>M</td>\n",
       "      <td>College</td>\n",
       "      <td>7524.000000</td>\n",
       "      <td>21941.000000</td>\n",
       "      <td>96.0</td>\n",
       "      <td>0.0</td>\n",
       "      <td>Personal Auto</td>\n",
       "      <td>Four-Door Car</td>\n",
       "      <td>691.200000</td>\n",
       "    </tr>\n",
       "    <tr>\n",
       "      <th>7069</th>\n",
       "      <td>California</td>\n",
       "      <td>M</td>\n",
       "      <td>College</td>\n",
       "      <td>2612.000000</td>\n",
       "      <td>37707.283909</td>\n",
       "      <td>77.0</td>\n",
       "      <td>0.0</td>\n",
       "      <td>Corporate Auto</td>\n",
       "      <td>Two-Door Car</td>\n",
       "      <td>369.600000</td>\n",
       "    </tr>\n",
       "  </tbody>\n",
       "</table>\n",
       "<p>8707 rows × 10 columns</p>\n",
       "</div>"
      ],
      "text/plain": [
       "           state gender             education  customer_ltv        income  \\\n",
       "0     Washington      U                Master   7980.553578  37707.283909   \n",
       "1        Arizona      F              Bachelor   6980.000000  37707.283909   \n",
       "2         Nevada      F              Bachelor  12887.000000  48767.000000   \n",
       "3     California      M              Bachelor   7646.000000  37707.283909   \n",
       "4     Washington      M  High School or Below   5363.000000  36357.000000   \n",
       "...          ...    ...                   ...           ...           ...   \n",
       "7064  California      F               College   4100.000000  47761.000000   \n",
       "7065  California      M              Bachelor  23406.000000  71941.000000   \n",
       "7067  California      M              Bachelor   8164.000000  37707.283909   \n",
       "7068  California      M               College   7524.000000  21941.000000   \n",
       "7069  California      M               College   2612.000000  37707.283909   \n",
       "\n",
       "      premium  open_complaints          policy  vehicle_class  total_claim  \n",
       "0      1000.0              0.0   Personal Auto  Four-Door Car     2.704934  \n",
       "1        94.0              0.0   Personal Auto  Four-Door Car  1131.464935  \n",
       "2       108.0              0.0   Personal Auto   Two-Door Car   566.472247  \n",
       "3       106.0              0.0  Corporate Auto            SUV   529.881344  \n",
       "4        68.0              0.0   Personal Auto  Four-Door Car    17.269323  \n",
       "...       ...              ...             ...            ...          ...  \n",
       "7064    104.0              0.0   Personal Auto  Four-Door Car   541.282007  \n",
       "7065     73.0              0.0   Personal Auto  Four-Door Car   198.234764  \n",
       "7067     85.0              3.0  Corporate Auto  Four-Door Car   790.784983  \n",
       "7068     96.0              0.0   Personal Auto  Four-Door Car   691.200000  \n",
       "7069     77.0              0.0  Corporate Auto   Two-Door Car   369.600000  \n",
       "\n",
       "[8707 rows x 10 columns]"
      ]
     },
     "execution_count": 16,
     "metadata": {},
     "output_type": "execute_result"
    }
   ],
   "source": [
    "df['income'] = df['income'].replace([0], df.income.mean())\n",
    "df['premium'] = df['premium'].replace([0], df.premium.mean())\n",
    "df['customer_ltv'] = df['customer_ltv'].replace([0], df.customer_ltv.mean())\n",
    "df['state'] = df['state'].replace([0], 'U')\n",
    "df['gender'] = df['gender'].replace([0], \"U\")\n",
    "# df"
   ]
  },
  {
   "cell_type": "code",
   "execution_count": 17,
   "id": "b595d669",
   "metadata": {
    "pycharm": {
     "name": "#%%\n"
    }
   },
   "outputs": [],
   "source": [
    "# print(\"state -> \", df[\"state\"].unique())\n",
    "# print(\"gender -> \", df[\"gender\"].unique())\n",
    "# print(\"education -> \", df[\"education\"].unique())\n",
    "# print(\"customer_ltv -> \", df[\"customer_ltv\"].unique())\n",
    "# print(\"income -> \", df[\"income\"].unique())\n",
    "# print(\"premium -> \", df[\"premium\"].unique())\n",
    "# print(\"open_complaints -> \", df[\"open_complaints\"].unique())\n",
    "# print(\"policy -> \", df[\"policy\"].unique())\n",
    "# print(\"vehicle_class -> \", df[\"vehicle_class\"].unique())\n",
    "# print(\"total_claim -> \", df[\"total_claim\"].unique())"
   ]
  },
  {
   "cell_type": "code",
   "execution_count": 18,
   "id": "bc13d5a6",
   "metadata": {
    "pycharm": {
     "name": "#%%\n"
    }
   },
   "outputs": [
    {
     "name": "stdout",
     "output_type": "stream",
     "text": [
      "state ->\n",
      " West Region    2996\n",
      "Central        2506\n",
      "North West     2480\n",
      "East            724\n",
      "U                 1\n",
      "Name: state, dtype: int64\n"
     ]
    }
   ],
   "source": [
    "df['state'] = df['state'].replace(['California', 'Oregon', 'Washington'],['West Region', 'North West', 'East'])\n",
    "df['state'] = df['state'].replace(['Arizona', 'Nevada'], 'Central')\n",
    "print(\"state ->\\n\", df[\"state\"].value_counts())"
   ]
  },
  {
   "cell_type": "code",
   "execution_count": 19,
   "id": "b0380a34",
   "metadata": {
    "pycharm": {
     "name": "#%%\n"
    }
   },
   "outputs": [],
   "source": [
    "df = df.rename(columns={\"state\": \"zones\"})"
   ]
  },
  {
   "cell_type": "code",
   "execution_count": 20,
   "id": "0f627470",
   "metadata": {
    "pycharm": {
     "name": "#%%\n"
    }
   },
   "outputs": [],
   "source": [
    "df = df.applymap(lambda x:x.lower() if isinstance(x, str) else x)\n",
    "# df = df.applymap(lambda x:x.lower() if type(x) == str else x)"
   ]
  },
  {
   "cell_type": "code",
   "execution_count": 21,
   "id": "1944b0cc",
   "metadata": {
    "pycharm": {
     "name": "#%%\n"
    }
   },
   "outputs": [],
   "source": [
    "df['customer_ltv'] = df['customer_ltv'].round(decimals=2)\n",
    "df['income'] = df['income'].round(decimals=2)\n",
    "df['premium'] = df['premium'].round(decimals=2)\n",
    "df['total_claim'] = df['total_claim'].round(decimals=2)"
   ]
  },
  {
   "cell_type": "code",
   "execution_count": 22,
   "id": "989abc8d",
   "metadata": {
    "pycharm": {
     "name": "#%%\n"
    }
   },
   "outputs": [
    {
     "data": {
      "text/html": [
       "<div>\n",
       "<style scoped>\n",
       "    .dataframe tbody tr th:only-of-type {\n",
       "        vertical-align: middle;\n",
       "    }\n",
       "\n",
       "    .dataframe tbody tr th {\n",
       "        vertical-align: top;\n",
       "    }\n",
       "\n",
       "    .dataframe thead th {\n",
       "        text-align: right;\n",
       "    }\n",
       "</style>\n",
       "<table border=\"1\" class=\"dataframe\">\n",
       "  <thead>\n",
       "    <tr style=\"text-align: right;\">\n",
       "      <th></th>\n",
       "      <th>zones</th>\n",
       "      <th>gender</th>\n",
       "      <th>education</th>\n",
       "      <th>customer_ltv</th>\n",
       "      <th>income</th>\n",
       "      <th>premium</th>\n",
       "      <th>open_complaints</th>\n",
       "      <th>policy</th>\n",
       "      <th>vehicle_class</th>\n",
       "      <th>total_claim</th>\n",
       "    </tr>\n",
       "  </thead>\n",
       "  <tbody>\n",
       "    <tr>\n",
       "      <th>0</th>\n",
       "      <td>east</td>\n",
       "      <td>u</td>\n",
       "      <td>master</td>\n",
       "      <td>7980.55</td>\n",
       "      <td>37707.28</td>\n",
       "      <td>1000.0</td>\n",
       "      <td>0.0</td>\n",
       "      <td>personal auto</td>\n",
       "      <td>four-door car</td>\n",
       "      <td>2.70</td>\n",
       "    </tr>\n",
       "    <tr>\n",
       "      <th>1</th>\n",
       "      <td>central</td>\n",
       "      <td>f</td>\n",
       "      <td>bachelor</td>\n",
       "      <td>6980.00</td>\n",
       "      <td>37707.28</td>\n",
       "      <td>94.0</td>\n",
       "      <td>0.0</td>\n",
       "      <td>personal auto</td>\n",
       "      <td>four-door car</td>\n",
       "      <td>1131.46</td>\n",
       "    </tr>\n",
       "    <tr>\n",
       "      <th>2</th>\n",
       "      <td>central</td>\n",
       "      <td>f</td>\n",
       "      <td>bachelor</td>\n",
       "      <td>12887.00</td>\n",
       "      <td>48767.00</td>\n",
       "      <td>108.0</td>\n",
       "      <td>0.0</td>\n",
       "      <td>personal auto</td>\n",
       "      <td>two-door car</td>\n",
       "      <td>566.47</td>\n",
       "    </tr>\n",
       "    <tr>\n",
       "      <th>3</th>\n",
       "      <td>west region</td>\n",
       "      <td>m</td>\n",
       "      <td>bachelor</td>\n",
       "      <td>7646.00</td>\n",
       "      <td>37707.28</td>\n",
       "      <td>106.0</td>\n",
       "      <td>0.0</td>\n",
       "      <td>corporate auto</td>\n",
       "      <td>suv</td>\n",
       "      <td>529.88</td>\n",
       "    </tr>\n",
       "    <tr>\n",
       "      <th>4</th>\n",
       "      <td>east</td>\n",
       "      <td>m</td>\n",
       "      <td>high school or below</td>\n",
       "      <td>5363.00</td>\n",
       "      <td>36357.00</td>\n",
       "      <td>68.0</td>\n",
       "      <td>0.0</td>\n",
       "      <td>personal auto</td>\n",
       "      <td>four-door car</td>\n",
       "      <td>17.27</td>\n",
       "    </tr>\n",
       "    <tr>\n",
       "      <th>...</th>\n",
       "      <td>...</td>\n",
       "      <td>...</td>\n",
       "      <td>...</td>\n",
       "      <td>...</td>\n",
       "      <td>...</td>\n",
       "      <td>...</td>\n",
       "      <td>...</td>\n",
       "      <td>...</td>\n",
       "      <td>...</td>\n",
       "      <td>...</td>\n",
       "    </tr>\n",
       "    <tr>\n",
       "      <th>7064</th>\n",
       "      <td>west region</td>\n",
       "      <td>f</td>\n",
       "      <td>college</td>\n",
       "      <td>4100.00</td>\n",
       "      <td>47761.00</td>\n",
       "      <td>104.0</td>\n",
       "      <td>0.0</td>\n",
       "      <td>personal auto</td>\n",
       "      <td>four-door car</td>\n",
       "      <td>541.28</td>\n",
       "    </tr>\n",
       "    <tr>\n",
       "      <th>7065</th>\n",
       "      <td>west region</td>\n",
       "      <td>m</td>\n",
       "      <td>bachelor</td>\n",
       "      <td>23406.00</td>\n",
       "      <td>71941.00</td>\n",
       "      <td>73.0</td>\n",
       "      <td>0.0</td>\n",
       "      <td>personal auto</td>\n",
       "      <td>four-door car</td>\n",
       "      <td>198.23</td>\n",
       "    </tr>\n",
       "    <tr>\n",
       "      <th>7067</th>\n",
       "      <td>west region</td>\n",
       "      <td>m</td>\n",
       "      <td>bachelor</td>\n",
       "      <td>8164.00</td>\n",
       "      <td>37707.28</td>\n",
       "      <td>85.0</td>\n",
       "      <td>3.0</td>\n",
       "      <td>corporate auto</td>\n",
       "      <td>four-door car</td>\n",
       "      <td>790.78</td>\n",
       "    </tr>\n",
       "    <tr>\n",
       "      <th>7068</th>\n",
       "      <td>west region</td>\n",
       "      <td>m</td>\n",
       "      <td>college</td>\n",
       "      <td>7524.00</td>\n",
       "      <td>21941.00</td>\n",
       "      <td>96.0</td>\n",
       "      <td>0.0</td>\n",
       "      <td>personal auto</td>\n",
       "      <td>four-door car</td>\n",
       "      <td>691.20</td>\n",
       "    </tr>\n",
       "    <tr>\n",
       "      <th>7069</th>\n",
       "      <td>west region</td>\n",
       "      <td>m</td>\n",
       "      <td>college</td>\n",
       "      <td>2612.00</td>\n",
       "      <td>37707.28</td>\n",
       "      <td>77.0</td>\n",
       "      <td>0.0</td>\n",
       "      <td>corporate auto</td>\n",
       "      <td>two-door car</td>\n",
       "      <td>369.60</td>\n",
       "    </tr>\n",
       "  </tbody>\n",
       "</table>\n",
       "<p>8707 rows × 10 columns</p>\n",
       "</div>"
      ],
      "text/plain": [
       "            zones gender             education  customer_ltv    income  \\\n",
       "0            east      u                master       7980.55  37707.28   \n",
       "1         central      f              bachelor       6980.00  37707.28   \n",
       "2         central      f              bachelor      12887.00  48767.00   \n",
       "3     west region      m              bachelor       7646.00  37707.28   \n",
       "4            east      m  high school or below       5363.00  36357.00   \n",
       "...           ...    ...                   ...           ...       ...   \n",
       "7064  west region      f               college       4100.00  47761.00   \n",
       "7065  west region      m              bachelor      23406.00  71941.00   \n",
       "7067  west region      m              bachelor       8164.00  37707.28   \n",
       "7068  west region      m               college       7524.00  21941.00   \n",
       "7069  west region      m               college       2612.00  37707.28   \n",
       "\n",
       "      premium  open_complaints          policy  vehicle_class  total_claim  \n",
       "0      1000.0              0.0   personal auto  four-door car         2.70  \n",
       "1        94.0              0.0   personal auto  four-door car      1131.46  \n",
       "2       108.0              0.0   personal auto   two-door car       566.47  \n",
       "3       106.0              0.0  corporate auto            suv       529.88  \n",
       "4        68.0              0.0   personal auto  four-door car        17.27  \n",
       "...       ...              ...             ...            ...          ...  \n",
       "7064    104.0              0.0   personal auto  four-door car       541.28  \n",
       "7065     73.0              0.0   personal auto  four-door car       198.23  \n",
       "7067     85.0              3.0  corporate auto  four-door car       790.78  \n",
       "7068     96.0              0.0   personal auto  four-door car       691.20  \n",
       "7069     77.0              0.0  corporate auto   two-door car       369.60  \n",
       "\n",
       "[8707 rows x 10 columns]"
      ]
     },
     "execution_count": 22,
     "metadata": {},
     "output_type": "execute_result"
    }
   ],
   "source": [
    "df"
   ]
  },
  {
   "cell_type": "code",
   "execution_count": null,
   "id": "09562b80",
   "metadata": {
    "pycharm": {
     "name": "#%%\n"
    }
   },
   "outputs": [],
   "source": []
  }
 ],
 "metadata": {
  "kernelspec": {
   "display_name": "Python 3 (ipykernel)",
   "language": "python",
   "name": "python3"
  },
  "language_info": {
   "codemirror_mode": {
    "name": "ipython",
    "version": 3
   },
   "file_extension": ".py",
   "mimetype": "text/x-python",
   "name": "python",
   "nbconvert_exporter": "python",
   "pygments_lexer": "ipython3",
   "version": "3.9.12"
  },
  "toc": {
   "base_numbering": 1,
   "nav_menu": {},
   "number_sections": true,
   "sideBar": true,
   "skip_h1_title": false,
   "title_cell": "Table of Contents",
   "title_sidebar": "Contents",
   "toc_cell": false,
   "toc_position": {},
   "toc_section_display": true,
   "toc_window_display": false
  }
 },
 "nbformat": 4,
 "nbformat_minor": 5
}